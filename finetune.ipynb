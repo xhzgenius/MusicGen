{
 "cells": [
  {
   "cell_type": "markdown",
   "metadata": {},
   "source": [
    "### 加载模型"
   ]
  },
  {
   "cell_type": "code",
   "execution_count": 1,
   "metadata": {},
   "outputs": [
    {
     "name": "stderr",
     "output_type": "stream",
     "text": [
      "d:\\Anaconda\\envs\\NLP2\\Lib\\site-packages\\tqdm\\auto.py:21: TqdmWarning: IProgress not found. Please update jupyter and ipywidgets. See https://ipywidgets.readthedocs.io/en/stable/user_install.html\n",
      "  from .autonotebook import tqdm as notebook_tqdm\n"
     ]
    },
    {
     "name": "stdout",
     "output_type": "stream",
     "text": [
      "device: cuda\n"
     ]
    }
   ],
   "source": [
    "from transformers import AutoProcessor, MusicgenForConditionalGeneration\n",
    "import torch\n",
    "\n",
    "device = \"cuda\" if torch.cuda.is_available() else \"cpu\"\n",
    "print(\"device:\", device)\n",
    "\n",
    "model_name = \"facebook/musicgen-medium\"  # 可选：small, medium, large\n",
    "# 初次使用记得去掉local_files_only=True\n",
    "processor = AutoProcessor.from_pretrained(model_name, local_files_only=True)\n",
    "model = MusicgenForConditionalGeneration.from_pretrained(model_name, local_files_only=True).half().to(device)\n",
    "# model.half()解决精度问题报错"
   ]
  },
  {
   "cell_type": "markdown",
   "metadata": {},
   "source": [
    "### 加载数据集"
   ]
  },
  {
   "cell_type": "code",
   "execution_count": 25,
   "metadata": {},
   "outputs": [],
   "source": [
    "import librosa\n",
    "from datasets import Dataset\n",
    "import os\n",
    "\n",
    "def process_data(batch):\n",
    "    # 加载音频并标准化\n",
    "    audios = []\n",
    "    for path in batch[\"location\"]:\n",
    "        audio, sr = librosa.load(os.path.join(\"./data/datashare/\", path), sr=32000)\n",
    "        audios.append(audio)\n",
    "    \n",
    "    # 使用 processor 处理文本和音频\n",
    "    inputs = processor(\n",
    "        text=batch[\"main_caption\"],\n",
    "        audio=audios,\n",
    "        sampling_rate=32000,\n",
    "        padding=True,\n",
    "        return_tensors=\"pt\",\n",
    "    ).to(device)\n",
    "    \n",
    "    return inputs"
   ]
  },
  {
   "cell_type": "code",
   "execution_count": 26,
   "metadata": {},
   "outputs": [],
   "source": [
    "from datasets import load_dataset\n",
    "dataset = load_dataset(\"amaai-lab/MusicBench\")"
   ]
  },
  {
   "cell_type": "code",
   "execution_count": 27,
   "metadata": {},
   "outputs": [
    {
     "name": "stderr",
     "output_type": "stream",
     "text": [
      "Map:  17%|█▋        | 8942/52768 [02:32<10:48, 67.61 examples/s]"
     ]
    }
   ],
   "source": [
    "dataset = dataset.map(process_data, batched=True, batch_size=2)\n",
    "# dataset = dataset[\"train\"].train_test_split(test_size=0.2)\n",
    "dataset"
   ]
  },
  {
   "cell_type": "markdown",
   "metadata": {},
   "source": [
    "### 设置lora参数"
   ]
  },
  {
   "cell_type": "code",
   "execution_count": null,
   "metadata": {},
   "outputs": [],
   "source": [
    "from peft import LoraConfig, get_peft_model\n",
    "\n",
    "# 定义 LoRA 配置\n",
    "lora_config = LoraConfig(\n",
    "    r=8,                  # LoRA 的秩（Rank）\n",
    "    lora_alpha=32,        # 缩放因子\n",
    "    target_modules=[\"q_proj\", \"v_proj\"],  # 目标模块（MusicGen 的注意力层）\n",
    "    lora_dropout=0.05,    # Dropout 率\n",
    "    bias=\"none\",          # 不调整偏置\n",
    "    task_type=\"CAUSAL_LM\", # 因果语言模型任务\n",
    ")\n",
    "\n",
    "# 应用 LoRA\n",
    "lora_model = get_peft_model(model, lora_config)\n",
    "lora_model.print_trainable_parameters()  # 查看可训练参数（应远小于原始模型）\n",
    "lora_model.save_pretrained(\"./outputs/musicgen-lora/initial_lora\")"
   ]
  },
  {
   "cell_type": "markdown",
   "metadata": {},
   "source": [
    "### 设置训练参数"
   ]
  },
  {
   "cell_type": "code",
   "execution_count": null,
   "metadata": {},
   "outputs": [],
   "source": [
    "\n",
    "from transformers import TrainingArguments, Trainer\n",
    "\n",
    "training_args = TrainingArguments(\n",
    "    output_dir=\"./outputs/musicgen-lora\",\n",
    "    per_device_train_batch_size=2,\n",
    "    num_train_epochs=3,\n",
    "    learning_rate=1e-4,  # LoRA 需要更高的学习率\n",
    "    fp16=True,           # 混合精度训练\n",
    "    logging_steps=100,\n",
    "    save_steps=500,\n",
    ")\n",
    "\n",
    "trainer = Trainer(\n",
    "    model=lora_model,\n",
    "    args=training_args,\n",
    "    train_dataset=dataset[\"train\"],\n",
    "    eval_dataset=dataset[\"test\"],\n",
    ")"
   ]
  },
  {
   "cell_type": "markdown",
   "metadata": {},
   "source": [
    "### 训练"
   ]
  },
  {
   "cell_type": "code",
   "execution_count": null,
   "metadata": {},
   "outputs": [],
   "source": [
    "trainer.train()"
   ]
  }
 ],
 "metadata": {
  "kernelspec": {
   "display_name": "Python 3.12.9 ('NLP2')",
   "language": "python",
   "name": "python3"
  },
  "language_info": {
   "codemirror_mode": {
    "name": "ipython",
    "version": 3
   },
   "file_extension": ".py",
   "mimetype": "text/x-python",
   "name": "python",
   "nbconvert_exporter": "python",
   "pygments_lexer": "ipython3",
   "version": "3.12.9"
  },
  "orig_nbformat": 4,
  "vscode": {
   "interpreter": {
    "hash": "11c7becfb3ab913813bd9aa8c016a376309325bf0d122f29c83fa200e32f21b4"
   }
  }
 },
 "nbformat": 4,
 "nbformat_minor": 2
}
