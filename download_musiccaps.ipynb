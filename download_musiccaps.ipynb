{
  "cells": [
    {
      "cell_type": "markdown",
      "metadata": {
        "colab_type": "text",
        "id": "view-in-github"
      },
      "source": [
        "<a href=\"https://colab.research.google.com/github/nateraw/download-musiccaps-dataset/blob/main/download_musiccaps.ipynb\" target=\"_parent\"><img src=\"https://colab.research.google.com/assets/colab-badge.svg\" alt=\"Open In Colab\"/></a>"
      ]
    },
    {
      "cell_type": "markdown",
      "metadata": {
        "id": "KuxtZ-mfUZTJ"
      },
      "source": [
        "# Downloading Clips from the MusicCaps Dataset\n",
        "\n",
        "In this notebook, we see how you can use `yt-dlp` to download clips from the [MusicCaps](https://huggingface.co/datasets/google/MusicCaps) dataset from Google. The MusicCaps dataset contains music and their associated text captions. You could use a dataset like this to train a text-to-audio generation model 😉. \n",
        "\n",
        "Once we've downloaded the clips, we'll explore them using a [Gradio](https://gradio.app/) interface.\n",
        "\n",
        "If you like this notebook:\n",
        "\n",
        "  - consider giving the [repo](https://github.com/nateraw/download-musiccaps-dataset) a star ⭐️\n",
        "  - consider following me on Github [@nateraw](https://github.com/nateraw)"
      ]
    },
    {
      "cell_type": "code",
      "execution_count": null,
      "metadata": {
        "id": "68SO8YxOProJ"
      },
      "outputs": [],
      "source": [
        "%%capture\n",
        "! pip install datasets[audio] yt-dlp\n",
        "\n",
        "# For the interactive interface we'll need gradio\n",
        "! pip install gradio"
      ]
    },
    {
      "cell_type": "code",
      "execution_count": 21,
      "metadata": {
        "id": "SeZLV1PCPyxW"
      },
      "outputs": [],
      "source": [
        "import subprocess\n",
        "import os\n",
        "from pathlib import Path\n",
        "\n",
        "from datasets import load_dataset, Audio\n",
        "\n",
        "\n",
        "def download_clip(\n",
        "    video_identifier,\n",
        "    output_filename,\n",
        "    start_time,\n",
        "    end_time,\n",
        "    tmp_dir='./data/musiccaps',\n",
        "    num_attempts=5,\n",
        "    url_base='https://www.youtube.com/watch?v='\n",
        "):\n",
        "    import subprocess\n",
        "    status = False\n",
        "\n",
        "    command = f\"\"\"\n",
        "        yt-dlp --quiet --force-keyframes-at-cuts --no-warnings -x --audio-format wav -f bestaudio -o \"{output_filename}\" --download-sections \"*{start_time}-{end_time}\" \"{url_base}{video_identifier}\" --cookies-from-browser chrome\n",
        "    \"\"\".strip()\n",
        "\n",
        "    attempts = 0\n",
        "    while True:\n",
        "        try:\n",
        "            output = subprocess.check_output(command, shell=True,\n",
        "                                                stderr=subprocess.STDOUT)\n",
        "        except subprocess.CalledProcessError as err:\n",
        "            raise err\n",
        "            print(\"Error!\", err.output)\n",
        "            attempts += 1\n",
        "            if attempts == num_attempts:\n",
        "                return status, err.output\n",
        "        else:\n",
        "            break\n",
        "\n",
        "    # Check if the video was successfully saved.\n",
        "    status = os.path.exists(output_filename)\n",
        "    return status, 'Downloaded'\n",
        "\n",
        "\n",
        "def main(\n",
        "    data_dir: str,\n",
        "    sampling_rate: int = 44100,\n",
        "    limit: int = None,\n",
        "    num_proc: int = 1,\n",
        "    writer_batch_size: int = 1,\n",
        "    download_clip = download_clip\n",
        "):\n",
        "    \"\"\"\n",
        "    Download the clips within the MusicCaps dataset from YouTube.\n",
        "    Args:\n",
        "        data_dir: Directory to save the clips to.\n",
        "        sampling_rate: Sampling rate of the audio clips.\n",
        "        limit: Limit the number of examples to download.\n",
        "        num_proc: Number of processes to use for downloading.\n",
        "        writer_batch_size: Batch size for writing the dataset. This is per process.\n",
        "    \"\"\"\n",
        "\n",
        "    ds = load_dataset('google/MusicCaps', split='train')\n",
        "    if limit is not None:\n",
        "        print(f\"Limiting to {limit} examples\")\n",
        "        ds = ds.select(range(limit))\n",
        "\n",
        "    data_dir = Path(data_dir)\n",
        "    data_dir.mkdir(exist_ok=True, parents=True)\n",
        "\n",
        "    def process(example):\n",
        "        import os\n",
        "        import subprocess\n",
        "        outfile_path = str(data_dir / f\"{example['ytid']}.wav\")\n",
        "        status = True\n",
        "        if not os.path.exists(outfile_path):\n",
        "            status = False\n",
        "            status, log = download_clip(\n",
        "                example['ytid'],\n",
        "                outfile_path,\n",
        "                example['start_s'],\n",
        "                example['end_s'],\n",
        "            )\n",
        "\n",
        "        example['audio'] = outfile_path\n",
        "        example['download_status'] = status\n",
        "        return example\n",
        "\n",
        "    return ds.map(\n",
        "        process,\n",
        "        num_proc=num_proc,\n",
        "        writer_batch_size=writer_batch_size,\n",
        "        keep_in_memory=False\n",
        "    ).cast_column('audio', Audio(sampling_rate=sampling_rate))"
      ]
    },
    {
      "cell_type": "markdown",
      "metadata": {
        "id": "SfuUiBBwQkG4"
      },
      "source": [
        "## Load the Dataset\n",
        "\n",
        "Here we are limiting to the first 32 examples. Since Colab is constrained to 2 cores, downloading the whole dataset here would take hours.\n",
        "\n",
        "When running this on your own machine:\n",
        "  - you can set `limit=None` to download + process the full dataset. Feel free to do that here in Colab, it'll just take a long time.\n",
        "  - you should increase the `num_proc`, which will speed things up substantially\n",
        "  - If you run out of memory, try reducing the `writer_batch_size`, as by default, it will keep 1000 examples in memory *per worker*."
      ]
    },
    {
      "cell_type": "code",
      "execution_count": 22,
      "metadata": {
        "id": "FV-nFNShP7Xd"
      },
      "outputs": [
        {
          "name": "stdout",
          "output_type": "stream",
          "text": [
            "Limiting to 32 examples\n"
          ]
        },
        {
          "name": "stderr",
          "output_type": "stream",
          "text": [
            "Map (num_proc=8):   0%|          | 0/32 [00:04<?, ? examples/s]\n"
          ]
        },
        {
          "ename": "CalledProcessError",
          "evalue": "Command 'yt-dlp --quiet --force-keyframes-at-cuts --no-warnings -x --audio-format wav -f bestaudio -o \"music_data\\-0Gj8-vB1q4.wav\" --download-sections \"*30-40\" \"https://www.youtube.com/watch?v=-0Gj8-vB1q4\" --cookies-from-browser chrome' returned non-zero exit status 1.",
          "output_type": "error",
          "traceback": [
            "\u001b[31m---------------------------------------------------------------------------\u001b[39m",
            "\u001b[31mRemoteTraceback\u001b[39m                           Traceback (most recent call last)",
            "\u001b[31mRemoteTraceback\u001b[39m: \n\"\"\"\nTraceback (most recent call last):\n  File \"d:\\Anaconda\\envs\\NLP2\\Lib\\site-packages\\multiprocess\\pool.py\", line 125, in worker\n    result = (True, func(*args, **kwds))\n                    ^^^^^^^^^^^^^^^^^^^\n  File \"d:\\Anaconda\\envs\\NLP2\\Lib\\site-packages\\datasets\\utils\\py_utils.py\", line 688, in _write_generator_to_queue\n    for i, result in enumerate(func(**kwargs)):\n                     ^^^^^^^^^^^^^^^^^^^^^^^^^\n  File \"d:\\Anaconda\\envs\\NLP2\\Lib\\site-packages\\datasets\\arrow_dataset.py\", line 3501, in _map_single\n    for i, example in iter_outputs(shard_iterable):\n                      ^^^^^^^^^^^^^^^^^^^^^^^^^^^^\n  File \"d:\\Anaconda\\envs\\NLP2\\Lib\\site-packages\\datasets\\arrow_dataset.py\", line 3475, in iter_outputs\n    yield i, apply_function(example, i, offset=offset)\n             ^^^^^^^^^^^^^^^^^^^^^^^^^^^^^^^^^^^^^^^^^\n  File \"d:\\Anaconda\\envs\\NLP2\\Lib\\site-packages\\datasets\\arrow_dataset.py\", line 3398, in apply_function\n    processed_inputs = function(*fn_args, *additional_args, **fn_kwargs)\n                       ^^^^^^^^^^^^^^^^^^^^^^^^^^^^^^^^^^^^^^^^^^^^^^^^^\n  File \"C:\\Users\\XHZGenius\\AppData\\Local\\Temp\\ipykernel_49068\\3314879312.py\", line 76, in process\n  File \"C:\\Users\\XHZGenius\\AppData\\Local\\Temp\\ipykernel_49068\\3314879312.py\", line 30, in download_clip\n  File \"C:\\Users\\XHZGenius\\AppData\\Local\\Temp\\ipykernel_49068\\3314879312.py\", line 27, in download_clip\n  File \"d:\\Anaconda\\envs\\NLP2\\Lib\\subprocess.py\", line 468, in check_output\n    return run(*popenargs, stdout=PIPE, timeout=timeout, check=True,\n           ^^^^^^^^^^^^^^^^^^^^^^^^^^^^^^^^^^^^^^^^^^^^^^^^^^^^^^^^^\n  File \"d:\\Anaconda\\envs\\NLP2\\Lib\\subprocess.py\", line 573, in run\n    raise CalledProcessError(retcode, process.args,\nsubprocess.CalledProcessError: Command 'yt-dlp --quiet --force-keyframes-at-cuts --no-warnings -x --audio-format wav -f bestaudio -o \"music_data\\-0Gj8-vB1q4.wav\" --download-sections \"*30-40\" \"https://www.youtube.com/watch?v=-0Gj8-vB1q4\" --cookies-from-browser chrome' returned non-zero exit status 1.\n\"\"\"",
            "\nThe above exception was the direct cause of the following exception:\n",
            "\u001b[31mCalledProcessError\u001b[39m                        Traceback (most recent call last)",
            "\u001b[36mCell\u001b[39m\u001b[36m \u001b[39m\u001b[32mIn[22]\u001b[39m\u001b[32m, line 1\u001b[39m\n\u001b[32m----> \u001b[39m\u001b[32m1\u001b[39m ds = main(\u001b[33m'\u001b[39m\u001b[33m./music_data\u001b[39m\u001b[33m'\u001b[39m, num_proc=\u001b[32m8\u001b[39m, limit=\u001b[32m32\u001b[39m)\n",
            "\u001b[36mCell\u001b[39m\u001b[36m \u001b[39m\u001b[32mIn[21]\u001b[39m\u001b[32m, line 87\u001b[39m, in \u001b[36mmain\u001b[39m\u001b[34m(data_dir, sampling_rate, limit, num_proc, writer_batch_size, download_clip)\u001b[39m\n\u001b[32m     84\u001b[39m     example[\u001b[33m'\u001b[39m\u001b[33mdownload_status\u001b[39m\u001b[33m'\u001b[39m] = status\n\u001b[32m     85\u001b[39m     \u001b[38;5;28;01mreturn\u001b[39;00m example\n\u001b[32m---> \u001b[39m\u001b[32m87\u001b[39m \u001b[38;5;28;01mreturn\u001b[39;00m ds.map(\n\u001b[32m     88\u001b[39m     process,\n\u001b[32m     89\u001b[39m     num_proc=num_proc,\n\u001b[32m     90\u001b[39m     writer_batch_size=writer_batch_size,\n\u001b[32m     91\u001b[39m     keep_in_memory=\u001b[38;5;28;01mFalse\u001b[39;00m\n\u001b[32m     92\u001b[39m ).cast_column(\u001b[33m'\u001b[39m\u001b[33maudio\u001b[39m\u001b[33m'\u001b[39m, Audio(sampling_rate=sampling_rate))\n",
            "\u001b[36mFile \u001b[39m\u001b[32md:\\Anaconda\\envs\\NLP2\\Lib\\site-packages\\datasets\\arrow_dataset.py:557\u001b[39m, in \u001b[36mtransmit_format.<locals>.wrapper\u001b[39m\u001b[34m(*args, **kwargs)\u001b[39m\n\u001b[32m    550\u001b[39m self_format = {\n\u001b[32m    551\u001b[39m     \u001b[33m\"\u001b[39m\u001b[33mtype\u001b[39m\u001b[33m\"\u001b[39m: \u001b[38;5;28mself\u001b[39m._format_type,\n\u001b[32m    552\u001b[39m     \u001b[33m\"\u001b[39m\u001b[33mformat_kwargs\u001b[39m\u001b[33m\"\u001b[39m: \u001b[38;5;28mself\u001b[39m._format_kwargs,\n\u001b[32m    553\u001b[39m     \u001b[33m\"\u001b[39m\u001b[33mcolumns\u001b[39m\u001b[33m\"\u001b[39m: \u001b[38;5;28mself\u001b[39m._format_columns,\n\u001b[32m    554\u001b[39m     \u001b[33m\"\u001b[39m\u001b[33moutput_all_columns\u001b[39m\u001b[33m\"\u001b[39m: \u001b[38;5;28mself\u001b[39m._output_all_columns,\n\u001b[32m    555\u001b[39m }\n\u001b[32m    556\u001b[39m \u001b[38;5;66;03m# apply actual function\u001b[39;00m\n\u001b[32m--> \u001b[39m\u001b[32m557\u001b[39m out: Union[\u001b[33m\"\u001b[39m\u001b[33mDataset\u001b[39m\u001b[33m\"\u001b[39m, \u001b[33m\"\u001b[39m\u001b[33mDatasetDict\u001b[39m\u001b[33m\"\u001b[39m] = func(\u001b[38;5;28mself\u001b[39m, *args, **kwargs)\n\u001b[32m    558\u001b[39m datasets: \u001b[38;5;28mlist\u001b[39m[\u001b[33m\"\u001b[39m\u001b[33mDataset\u001b[39m\u001b[33m\"\u001b[39m] = \u001b[38;5;28mlist\u001b[39m(out.values()) \u001b[38;5;28;01mif\u001b[39;00m \u001b[38;5;28misinstance\u001b[39m(out, \u001b[38;5;28mdict\u001b[39m) \u001b[38;5;28;01melse\u001b[39;00m [out]\n\u001b[32m    559\u001b[39m \u001b[38;5;66;03m# re-apply format to the output\u001b[39;00m\n",
            "\u001b[36mFile \u001b[39m\u001b[32md:\\Anaconda\\envs\\NLP2\\Lib\\site-packages\\datasets\\arrow_dataset.py:3171\u001b[39m, in \u001b[36mDataset.map\u001b[39m\u001b[34m(self, function, with_indices, with_rank, input_columns, batched, batch_size, drop_last_batch, remove_columns, keep_in_memory, load_from_cache_file, cache_file_name, writer_batch_size, features, disable_nullable, fn_kwargs, num_proc, suffix_template, new_fingerprint, desc, try_original_type)\u001b[39m\n\u001b[32m   3165\u001b[39m logger.info(\u001b[33mf\u001b[39m\u001b[33m\"\u001b[39m\u001b[33mSpawning \u001b[39m\u001b[38;5;132;01m{\u001b[39;00mnum_proc\u001b[38;5;132;01m}\u001b[39;00m\u001b[33m processes\u001b[39m\u001b[33m\"\u001b[39m)\n\u001b[32m   3166\u001b[39m \u001b[38;5;28;01mwith\u001b[39;00m hf_tqdm(\n\u001b[32m   3167\u001b[39m     unit=\u001b[33m\"\u001b[39m\u001b[33m examples\u001b[39m\u001b[33m\"\u001b[39m,\n\u001b[32m   3168\u001b[39m     total=pbar_total,\n\u001b[32m   3169\u001b[39m     desc=(desc \u001b[38;5;129;01mor\u001b[39;00m \u001b[33m\"\u001b[39m\u001b[33mMap\u001b[39m\u001b[33m\"\u001b[39m) + \u001b[33mf\u001b[39m\u001b[33m\"\u001b[39m\u001b[33m (num_proc=\u001b[39m\u001b[38;5;132;01m{\u001b[39;00mnum_proc\u001b[38;5;132;01m}\u001b[39;00m\u001b[33m)\u001b[39m\u001b[33m\"\u001b[39m,\n\u001b[32m   3170\u001b[39m ) \u001b[38;5;28;01mas\u001b[39;00m pbar:\n\u001b[32m-> \u001b[39m\u001b[32m3171\u001b[39m     \u001b[38;5;28;01mfor\u001b[39;00m rank, done, content \u001b[38;5;129;01min\u001b[39;00m iflatmap_unordered(\n\u001b[32m   3172\u001b[39m         pool, Dataset._map_single, kwargs_iterable=kwargs_per_job\n\u001b[32m   3173\u001b[39m     ):\n\u001b[32m   3174\u001b[39m         \u001b[38;5;28;01mif\u001b[39;00m done:\n\u001b[32m   3175\u001b[39m             shards_done += \u001b[32m1\u001b[39m\n",
            "\u001b[36mFile \u001b[39m\u001b[32md:\\Anaconda\\envs\\NLP2\\Lib\\site-packages\\datasets\\utils\\py_utils.py:728\u001b[39m, in \u001b[36miflatmap_unordered\u001b[39m\u001b[34m(pool, func, kwargs_iterable)\u001b[39m\n\u001b[32m    725\u001b[39m \u001b[38;5;28;01mfinally\u001b[39;00m:\n\u001b[32m    726\u001b[39m     \u001b[38;5;28;01mif\u001b[39;00m \u001b[38;5;129;01mnot\u001b[39;00m pool_changed:\n\u001b[32m    727\u001b[39m         \u001b[38;5;66;03m# we get the result in case there's an error to raise\u001b[39;00m\n\u001b[32m--> \u001b[39m\u001b[32m728\u001b[39m         [async_result.get(timeout=\u001b[32m0.05\u001b[39m) \u001b[38;5;28;01mfor\u001b[39;00m async_result \u001b[38;5;129;01min\u001b[39;00m async_results]\n",
            "\u001b[36mFile \u001b[39m\u001b[32md:\\Anaconda\\envs\\NLP2\\Lib\\site-packages\\multiprocess\\pool.py:774\u001b[39m, in \u001b[36mApplyResult.get\u001b[39m\u001b[34m(self, timeout)\u001b[39m\n\u001b[32m    772\u001b[39m     \u001b[38;5;28;01mreturn\u001b[39;00m \u001b[38;5;28mself\u001b[39m._value\n\u001b[32m    773\u001b[39m \u001b[38;5;28;01melse\u001b[39;00m:\n\u001b[32m--> \u001b[39m\u001b[32m774\u001b[39m     \u001b[38;5;28;01mraise\u001b[39;00m \u001b[38;5;28mself\u001b[39m._value\n",
            "\u001b[31mCalledProcessError\u001b[39m: Command 'yt-dlp --quiet --force-keyframes-at-cuts --no-warnings -x --audio-format wav -f bestaudio -o \"music_data\\-0Gj8-vB1q4.wav\" --download-sections \"*30-40\" \"https://www.youtube.com/watch?v=-0Gj8-vB1q4\" --cookies-from-browser chrome' returned non-zero exit status 1."
          ]
        }
      ],
      "source": [
        "ds = main('./music_data', num_proc=8, limit=32)"
      ]
    },
    {
      "cell_type": "code",
      "execution_count": 14,
      "metadata": {},
      "outputs": [
        {
          "data": {
            "text/html": [
              "<div>\n",
              "<style scoped>\n",
              "    .dataframe tbody tr th:only-of-type {\n",
              "        vertical-align: middle;\n",
              "    }\n",
              "\n",
              "    .dataframe tbody tr th {\n",
              "        vertical-align: top;\n",
              "    }\n",
              "\n",
              "    .dataframe thead th {\n",
              "        text-align: right;\n",
              "    }\n",
              "</style>\n",
              "<table border=\"1\" class=\"dataframe\">\n",
              "  <thead>\n",
              "    <tr style=\"text-align: right;\">\n",
              "      <th></th>\n",
              "      <th>ytid</th>\n",
              "      <th>start_s</th>\n",
              "      <th>end_s</th>\n",
              "      <th>audioset_positive_labels</th>\n",
              "      <th>aspect_list</th>\n",
              "      <th>caption</th>\n",
              "      <th>author_id</th>\n",
              "      <th>is_balanced_subset</th>\n",
              "      <th>is_audioset_eval</th>\n",
              "      <th>audio</th>\n",
              "      <th>download_status</th>\n",
              "    </tr>\n",
              "  </thead>\n",
              "  <tbody>\n",
              "    <tr>\n",
              "      <th>0</th>\n",
              "      <td>-0Gj8-vB1q4</td>\n",
              "      <td>30</td>\n",
              "      <td>40</td>\n",
              "      <td>/m/0140xf,/m/02cjck,/m/04rlf</td>\n",
              "      <td>['low quality', 'sustained strings melody', 's...</td>\n",
              "      <td>The low quality recording features a ballad so...</td>\n",
              "      <td>4</td>\n",
              "      <td>False</td>\n",
              "      <td>True</td>\n",
              "      <td>{'bytes': None, 'path': 'music_data\\-0Gj8-vB1q...</td>\n",
              "      <td>False</td>\n",
              "    </tr>\n",
              "    <tr>\n",
              "      <th>1</th>\n",
              "      <td>-0SdAVK79lg</td>\n",
              "      <td>30</td>\n",
              "      <td>40</td>\n",
              "      <td>/m/0155w,/m/01lyv,/m/0342h,/m/042v_gx,/m/04rlf...</td>\n",
              "      <td>['guitar song', 'piano backing', 'simple percu...</td>\n",
              "      <td>This song features an electric guitar as the m...</td>\n",
              "      <td>0</td>\n",
              "      <td>False</td>\n",
              "      <td>False</td>\n",
              "      <td>{'bytes': None, 'path': 'music_data\\-0SdAVK79l...</td>\n",
              "      <td>False</td>\n",
              "    </tr>\n",
              "    <tr>\n",
              "      <th>2</th>\n",
              "      <td>-0vPFx-wRRI</td>\n",
              "      <td>30</td>\n",
              "      <td>40</td>\n",
              "      <td>/m/025_jnm,/m/04rlf</td>\n",
              "      <td>['amateur recording', 'finger snipping', 'male...</td>\n",
              "      <td>a male voice is singing a melody with changing...</td>\n",
              "      <td>6</td>\n",
              "      <td>False</td>\n",
              "      <td>True</td>\n",
              "      <td>{'bytes': None, 'path': 'music_data\\-0vPFx-wRR...</td>\n",
              "      <td>False</td>\n",
              "    </tr>\n",
              "    <tr>\n",
              "      <th>3</th>\n",
              "      <td>-0xzrMun0Rs</td>\n",
              "      <td>30</td>\n",
              "      <td>40</td>\n",
              "      <td>/m/01g90h,/m/04rlf</td>\n",
              "      <td>['backing track', 'jazzy', 'digital drums', 'p...</td>\n",
              "      <td>This song contains digital drums playing a sim...</td>\n",
              "      <td>6</td>\n",
              "      <td>False</td>\n",
              "      <td>True</td>\n",
              "      <td>{'bytes': None, 'path': 'music_data\\-0xzrMun0R...</td>\n",
              "      <td>False</td>\n",
              "    </tr>\n",
              "    <tr>\n",
              "      <th>4</th>\n",
              "      <td>-1LrH01Ei1w</td>\n",
              "      <td>30</td>\n",
              "      <td>40</td>\n",
              "      <td>/m/02p0sh1,/m/04rlf</td>\n",
              "      <td>['rubab instrument', 'repetitive melody on dif...</td>\n",
              "      <td>This song features a rubber instrument being p...</td>\n",
              "      <td>0</td>\n",
              "      <td>False</td>\n",
              "      <td>False</td>\n",
              "      <td>{'bytes': None, 'path': 'music_data\\-1LrH01Ei1...</td>\n",
              "      <td>False</td>\n",
              "    </tr>\n",
              "  </tbody>\n",
              "</table>\n",
              "</div>"
            ],
            "text/plain": [
              "          ytid  start_s  end_s  \\\n",
              "0  -0Gj8-vB1q4       30     40   \n",
              "1  -0SdAVK79lg       30     40   \n",
              "2  -0vPFx-wRRI       30     40   \n",
              "3  -0xzrMun0Rs       30     40   \n",
              "4  -1LrH01Ei1w       30     40   \n",
              "\n",
              "                            audioset_positive_labels  \\\n",
              "0                       /m/0140xf,/m/02cjck,/m/04rlf   \n",
              "1  /m/0155w,/m/01lyv,/m/0342h,/m/042v_gx,/m/04rlf...   \n",
              "2                                /m/025_jnm,/m/04rlf   \n",
              "3                                 /m/01g90h,/m/04rlf   \n",
              "4                                /m/02p0sh1,/m/04rlf   \n",
              "\n",
              "                                         aspect_list  \\\n",
              "0  ['low quality', 'sustained strings melody', 's...   \n",
              "1  ['guitar song', 'piano backing', 'simple percu...   \n",
              "2  ['amateur recording', 'finger snipping', 'male...   \n",
              "3  ['backing track', 'jazzy', 'digital drums', 'p...   \n",
              "4  ['rubab instrument', 'repetitive melody on dif...   \n",
              "\n",
              "                                             caption  author_id  \\\n",
              "0  The low quality recording features a ballad so...          4   \n",
              "1  This song features an electric guitar as the m...          0   \n",
              "2  a male voice is singing a melody with changing...          6   \n",
              "3  This song contains digital drums playing a sim...          6   \n",
              "4  This song features a rubber instrument being p...          0   \n",
              "\n",
              "   is_balanced_subset  is_audioset_eval  \\\n",
              "0               False              True   \n",
              "1               False             False   \n",
              "2               False              True   \n",
              "3               False              True   \n",
              "4               False             False   \n",
              "\n",
              "                                               audio  download_status  \n",
              "0  {'bytes': None, 'path': 'music_data\\-0Gj8-vB1q...            False  \n",
              "1  {'bytes': None, 'path': 'music_data\\-0SdAVK79l...            False  \n",
              "2  {'bytes': None, 'path': 'music_data\\-0vPFx-wRR...            False  \n",
              "3  {'bytes': None, 'path': 'music_data\\-0xzrMun0R...            False  \n",
              "4  {'bytes': None, 'path': 'music_data\\-1LrH01Ei1...            False  "
            ]
          },
          "execution_count": 14,
          "metadata": {},
          "output_type": "execute_result"
        }
      ],
      "source": [
        "ds.to_pandas().head()"
      ]
    },
    {
      "cell_type": "markdown",
      "metadata": {
        "id": "q4oDA-94RcOa"
      },
      "source": [
        "Let's explore the samples using a quick Gradio Interface 🤗"
      ]
    },
    {
      "cell_type": "code",
      "execution_count": 5,
      "metadata": {
        "id": "yYOHs59ISo-4"
      },
      "outputs": [
        {
          "name": "stdout",
          "output_type": "stream",
          "text": [
            "* Running on local URL:  http://127.0.0.1:7861\n",
            "* To create a public link, set `share=True` in `launch()`.\n"
          ]
        },
        {
          "data": {
            "text/html": [
              "<div><iframe src=\"http://127.0.0.1:7861/\" width=\"100%\" height=\"500\" allow=\"autoplay; camera; microphone; clipboard-read; clipboard-write;\" frameborder=\"0\" allowfullscreen></iframe></div>"
            ],
            "text/plain": [
              "<IPython.core.display.HTML object>"
            ]
          },
          "metadata": {},
          "output_type": "display_data"
        },
        {
          "data": {
            "text/plain": []
          },
          "execution_count": 5,
          "metadata": {},
          "output_type": "execute_result"
        },
        {
          "name": "stderr",
          "output_type": "stream",
          "text": [
            "Traceback (most recent call last):\n",
            "  File \"d:\\Anaconda\\envs\\NLP2\\Lib\\site-packages\\gradio\\queueing.py\", line 625, in process_events\n",
            "    response = await route_utils.call_process_api(\n",
            "               ^^^^^^^^^^^^^^^^^^^^^^^^^^^^^^^^^^^\n",
            "  File \"d:\\Anaconda\\envs\\NLP2\\Lib\\site-packages\\gradio\\route_utils.py\", line 322, in call_process_api\n",
            "    output = await app.get_blocks().process_api(\n",
            "             ^^^^^^^^^^^^^^^^^^^^^^^^^^^^^^^^^^^\n",
            "  File \"d:\\Anaconda\\envs\\NLP2\\Lib\\site-packages\\gradio\\blocks.py\", line 2181, in process_api\n",
            "    result = await self.call_function(\n",
            "             ^^^^^^^^^^^^^^^^^^^^^^^^^\n",
            "  File \"d:\\Anaconda\\envs\\NLP2\\Lib\\site-packages\\gradio\\blocks.py\", line 1692, in call_function\n",
            "    prediction = await anyio.to_thread.run_sync(  # type: ignore\n",
            "                 ^^^^^^^^^^^^^^^^^^^^^^^^^^^^^^^^^^^^^^^^^^^^^^^\n",
            "  File \"d:\\Anaconda\\envs\\NLP2\\Lib\\site-packages\\anyio\\to_thread.py\", line 56, in run_sync\n",
            "    return await get_async_backend().run_sync_in_worker_thread(\n",
            "           ^^^^^^^^^^^^^^^^^^^^^^^^^^^^^^^^^^^^^^^^^^^^^^^^^^^^\n",
            "  File \"d:\\Anaconda\\envs\\NLP2\\Lib\\site-packages\\anyio\\_backends\\_asyncio.py\", line 2470, in run_sync_in_worker_thread\n",
            "    return await future\n",
            "           ^^^^^^^^^^^^\n",
            "  File \"d:\\Anaconda\\envs\\NLP2\\Lib\\site-packages\\anyio\\_backends\\_asyncio.py\", line 967, in run\n",
            "    result = context.run(func, *args)\n",
            "             ^^^^^^^^^^^^^^^^^^^^^^^^\n",
            "  File \"d:\\Anaconda\\envs\\NLP2\\Lib\\site-packages\\gradio\\utils.py\", line 889, in wrapper\n",
            "    response = f(*args, **kwargs)\n",
            "               ^^^^^^^^^^^^^^^^^^\n",
            "  File \"C:\\Users\\XHZGenius\\AppData\\Local\\Temp\\ipykernel_49068\\2280949932.py\", line 4, in get_example\n",
            "    ex = ds[idx]\n",
            "         ~~^^^^^\n",
            "  File \"d:\\Anaconda\\envs\\NLP2\\Lib\\site-packages\\datasets\\arrow_dataset.py\", line 2777, in __getitem__\n",
            "    return self._getitem(key)\n",
            "           ^^^^^^^^^^^^^^^^^^\n",
            "  File \"d:\\Anaconda\\envs\\NLP2\\Lib\\site-packages\\datasets\\arrow_dataset.py\", line 2762, in _getitem\n",
            "    formatted_output = format_table(\n",
            "                       ^^^^^^^^^^^^^\n",
            "  File \"d:\\Anaconda\\envs\\NLP2\\Lib\\site-packages\\datasets\\formatting\\formatting.py\", line 653, in format_table\n",
            "    return formatter(pa_table, query_type=query_type)\n",
            "           ^^^^^^^^^^^^^^^^^^^^^^^^^^^^^^^^^^^^^^^^^^\n",
            "  File \"d:\\Anaconda\\envs\\NLP2\\Lib\\site-packages\\datasets\\formatting\\formatting.py\", line 406, in __call__\n",
            "    return self.format_row(pa_table)\n",
            "           ^^^^^^^^^^^^^^^^^^^^^^^^^\n",
            "  File \"d:\\Anaconda\\envs\\NLP2\\Lib\\site-packages\\datasets\\formatting\\formatting.py\", line 455, in format_row\n",
            "    row = self.python_features_decoder.decode_row(row)\n",
            "          ^^^^^^^^^^^^^^^^^^^^^^^^^^^^^^^^^^^^^^^^^^^^\n",
            "  File \"d:\\Anaconda\\envs\\NLP2\\Lib\\site-packages\\datasets\\formatting\\formatting.py\", line 223, in decode_row\n",
            "    return self.features.decode_example(row, token_per_repo_id=self.token_per_repo_id) if self.features else row\n",
            "           ^^^^^^^^^^^^^^^^^^^^^^^^^^^^^^^^^^^^^^^^^^^^^^^^^^^^^^^^^^^^^^^^^^^^^^^^^^^\n",
            "  File \"d:\\Anaconda\\envs\\NLP2\\Lib\\site-packages\\datasets\\features\\features.py\", line 2101, in decode_example\n",
            "    column_name: decode_nested_example(feature, value, token_per_repo_id=token_per_repo_id)\n",
            "                 ^^^^^^^^^^^^^^^^^^^^^^^^^^^^^^^^^^^^^^^^^^^^^^^^^^^^^^^^^^^^^^^^^^^^^^^^^^\n",
            "  File \"d:\\Anaconda\\envs\\NLP2\\Lib\\site-packages\\datasets\\features\\features.py\", line 1414, in decode_nested_example\n",
            "    return schema.decode_example(obj, token_per_repo_id=token_per_repo_id) if obj is not None else None\n",
            "           ^^^^^^^^^^^^^^^^^^^^^^^^^^^^^^^^^^^^^^^^^^^^^^^^^^^^^^^^^^^^^^^\n",
            "  File \"d:\\Anaconda\\envs\\NLP2\\Lib\\site-packages\\datasets\\features\\audio.py\", line 180, in decode_example\n",
            "    with xopen(path, \"rb\", download_config=download_config) as f:\n",
            "         ^^^^^^^^^^^^^^^^^^^^^^^^^^^^^^^^^^^^^^^^^^^^^^^^^^\n",
            "  File \"d:\\Anaconda\\envs\\NLP2\\Lib\\site-packages\\datasets\\utils\\file_utils.py\", line 944, in xopen\n",
            "    return open(main_hop, mode, *args, **kwargs)\n",
            "           ^^^^^^^^^^^^^^^^^^^^^^^^^^^^^^^^^^^^^\n",
            "FileNotFoundError: [Errno 2] No such file or directory: 'music_data\\\\-0SdAVK79lg.wav'\n"
          ]
        }
      ],
      "source": [
        "import gradio as gr\n",
        "\n",
        "def get_example(idx):\n",
        "    ex = ds[idx]\n",
        "    return ex['audio']['path'], ex['caption']\n",
        "\n",
        "gr.Interface(\n",
        "    get_example,\n",
        "    inputs=gr.Slider(0, len(ds) - 1, value=0, step=1),\n",
        "    outputs=['audio', 'textarea'],\n",
        "    live=True\n",
        ").launch()"
      ]
    }
  ],
  "metadata": {
    "colab": {
      "authorship_tag": "ABX9TyPt2vYclAviWACVGOGOvupq",
      "include_colab_link": true,
      "provenance": []
    },
    "kernelspec": {
      "display_name": "Python 3.12.9 ('NLP2')",
      "language": "python",
      "name": "python3"
    },
    "language_info": {
      "codemirror_mode": {
        "name": "ipython",
        "version": 3
      },
      "file_extension": ".py",
      "mimetype": "text/x-python",
      "name": "python",
      "nbconvert_exporter": "python",
      "pygments_lexer": "ipython3",
      "version": "3.12.9"
    },
    "vscode": {
      "interpreter": {
        "hash": "11c7becfb3ab913813bd9aa8c016a376309325bf0d122f29c83fa200e32f21b4"
      }
    }
  },
  "nbformat": 4,
  "nbformat_minor": 0
}
